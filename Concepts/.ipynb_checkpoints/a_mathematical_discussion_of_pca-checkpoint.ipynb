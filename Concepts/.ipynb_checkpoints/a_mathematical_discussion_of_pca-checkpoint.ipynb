{
 "cells": [
  {
   "cell_type": "code",
   "execution_count": 5,
   "metadata": {},
   "outputs": [
    {
     "data": {
      "text/html": [
       "<script>$(\"div.input\").hide()</script>"
      ],
      "text/plain": [
       "<IPython.core.display.HTML object>"
      ]
     },
     "metadata": {},
     "output_type": "display_data"
    },
    {
     "data": {
      "application/vnd.jupyter.widget-view+json": {
       "model_id": "b88934b2e7af40e78c5101fb33e4ad03",
       "version_major": 2,
       "version_minor": 0
      },
      "text/plain": [
       "ToggleButton(value=False, description='Show code')"
      ]
     },
     "metadata": {},
     "output_type": "display_data"
    },
    {
     "data": {
      "text/html": [
       "<script>$(\"div.input\").hide()</script>"
      ],
      "text/plain": [
       "<IPython.core.display.HTML object>"
      ]
     },
     "metadata": {},
     "output_type": "display_data"
    },
    {
     "data": {
      "text/html": [
       "<script>$(\"div.input\").show()</script>"
      ],
      "text/plain": [
       "<IPython.core.display.HTML object>"
      ]
     },
     "metadata": {},
     "output_type": "display_data"
    }
   ],
   "source": [
    "import ipywidgets as widgets\n",
    "from IPython.display import display, HTML\n",
    "\n",
    "javascript_functions = {False: \"hide()\", True: \"show()\"}\n",
    "button_descriptions  = {False: \"Show code\", True: \"Hide code\"}\n",
    "\n",
    "\n",
    "def toggle_code(state):\n",
    "\n",
    "    \"\"\"\n",
    "    Toggles the JavaScript show()/hide() function on the div.input element.\n",
    "    \"\"\"\n",
    "\n",
    "    output_string = \"<script>$(\\\"div.input\\\").{}</script>\"\n",
    "    output_args   = (javascript_functions[state],)\n",
    "    output        = output_string.format(*output_args)\n",
    "\n",
    "    display(HTML(output))\n",
    "\n",
    "\n",
    "def button_action(value):\n",
    "\n",
    "    \"\"\"\n",
    "    Calls the toggle_code function and updates the button description.\n",
    "    \"\"\"\n",
    "\n",
    "    state = value.new\n",
    "\n",
    "    toggle_code(state)\n",
    "\n",
    "    value.owner.description = button_descriptions[state]\n",
    "\n",
    "\n",
    "state = False\n",
    "toggle_code(state)\n",
    "\n",
    "button = widgets.ToggleButton(state, description = button_descriptions[state])\n",
    "button.observe(button_action, \"value\")\n",
    "\n",
    "display(button)"
   ]
  },
  {
   "cell_type": "code",
   "execution_count": 6,
   "metadata": {},
   "outputs": [
    {
     "data": {
      "application/vnd.jupyter.widget-view+json": {
       "model_id": "b88934b2e7af40e78c5101fb33e4ad03",
       "version_major": 2,
       "version_minor": 0
      },
      "text/plain": [
       "ToggleButton(value=False, description='Show code')"
      ]
     },
     "metadata": {},
     "output_type": "display_data"
    },
    {
     "data": {
      "text/html": [
       "<script>$(\"div.input\").show()</script>"
      ],
      "text/plain": [
       "<IPython.core.display.HTML object>"
      ]
     },
     "metadata": {},
     "output_type": "display_data"
    },
    {
     "data": {
      "text/html": [
       "<script>$(\"div.input\").hide()</script>"
      ],
      "text/plain": [
       "<IPython.core.display.HTML object>"
      ]
     },
     "metadata": {},
     "output_type": "display_data"
    }
   ],
   "source": [
    "import pandas as pd\n",
    "import numpy as np\n",
    "import matplotlib.pyplot as plt\n",
    "from sklearn.linear_model import LinearRegression\n",
    "from random import randint\n",
    "import numpy as np\n",
    "import matplotlib.pyplot as plt\n",
    "%matplotlib inline\n",
    "\n",
    "display(button)"
   ]
  },
  {
   "cell_type": "markdown",
   "metadata": {},
   "source": [
    "\n",
    "Most of the material in this notebook is from the following textbook: [Pattern Recognition and Machine Learning-ch-12](http://users.isr.ist.utl.pt/~wurmd/Livros/school/Bishop%20-%20Pattern%20Recognition%20And%20Machine%20Learning%20-%20Springer%20%202006.pdf)\n",
    "\n",
    "\n",
    "### Mathematical Discussion of PCA - Content\n",
    "\n",
    "1. [Variance = Information](#variance)\n",
    "\n",
    "2. [Maximum Variance Formulation](#maximum_variance)\n",
    "\n",
    "3. [Lagrange multiplier method](#Lagrange_multiplier_method)\n",
    "\n",
    "4. [Optimization Problem for Maximum Variance Interpretation](#optimization)\n",
    "\n",
    "5. [Minimum Error Formulation](#minimum_error)\n",
    "\n",
    "\n",
    "\n",
    "### Notation\n",
    "\n",
    "\n",
    "- A vector in $\\mathbb{R}^{n}$ is written as $\\vec{u} = (u_1, \\cdots, u_{n})$. So when we think a vector as an $n\\times1$ matrix, we represent it as a column vector:\n",
    "\n",
    "$$ \\vec{u} = \\begin{bmatrix}\n",
    "    u_1 \\\\\n",
    "    u_2 \\\\\n",
    "    \\vdots\\\\\n",
    "    u_n\n",
    "\\end{bmatrix}_{ n\\times1}$$\n",
    "\n",
    "with this notation the transpose of a vector is a $1\\times n$ matrix:\n",
    "\n",
    "$$\n",
    "\\vec{u}^{\\top} = \\begin{bmatrix}\n",
    "    u_1 & u_2 & \\cdots & u_n\n",
    "\\end{bmatrix}_{ 1\\times n}\n",
    "$$\n",
    "\n",
    "Note that for simplicity, we will omit '$\\to$' symbol whenever the computations are complicated.\n",
    "- For the dot-product we can use any of the following notations:\n",
    "\n",
    " - If we think of vectors abstractly: $u \\cdot v = v \\cdot u = u_1 v_1 + \\cdots + u_n v_u$\n",
    " \n",
    " - If we consider vectors as $n\\times 1$ matrices: \n",
    " \n",
    " $$\n",
    " u^{\\top}\\cdot v = \\begin{bmatrix}\n",
    "    u_1 & u_2 & \\cdots & u_n\n",
    "\\end{bmatrix}\\begin{bmatrix}\n",
    "    v_1 \\\\\n",
    "    v_2 \\\\\n",
    "    \\vdots\\\\\n",
    "    v_n\n",
    "\\end{bmatrix} = v^{\\top}\\cdot u =  \\begin{bmatrix}\n",
    "    v_1 & v_2 & \\cdots & v_n\n",
    "\\end{bmatrix}\\begin{bmatrix}\n",
    "    u_1 \\\\\n",
    "    u_2 \\\\\n",
    "    \\vdots\\\\\n",
    "    u_n\n",
    "    \\end{bmatrix}\n",
    "     = u_1 v_1 + \\cdots + u_n v_n\n",
    " $$\n",
    "\n",
    "\n",
    "<a name=\"maximum_variance\">\n",
    "</a>\n",
    "\n",
    "### What is PCA?\n",
    "\n",
    "PCA is an algorithm that allows us to reduce the number of features by finding special directions in the dataset that explains the variation more efficiently. In this notebook we would like to understand why this is useful and how this algorithm works mathematically. \n",
    "\n",
    "\n",
    "\n",
    "Suppose we would like to work with a dataset of dimension $N\\times D$. This means we have N-observations and D-features. Note that such dataset can be represented as an $N$ by $D$ matrix $X$. Our goal is to find a direction (a vector of dimension $N$) such that the projection of the dataset $X$ onto the line through this direction will have maximum variance. \n",
    "\n",
    "__Note 1__ Even though this algorithm is very similar to the least square method here we don't have any 'target' variable. \n",
    "\n",
    "__Note 2__ This algorithm can be applied to the dataset iteratively to explain more variance in the dataset and then we can stop after we reach a certain criteria or a number of dimensions.\n",
    "\n",
    "__Note 3__ Even though this is a dimension reduction algorithm, PCA is not a feature extraction technique. We will see that each 'special' direction will be expressed as the linear combinations of the all initial features. So at the end we will end up with less features but to create them we need all of the initial features. \n",
    "\n",
    "__Note 4__ If you have linear algebra background, PCA is basically writing the dataset matrix in a new basis formed by the eigenvectors of the covariance matrix of $X$.\n",
    "\n",
    "### The idea behind PCA - a very simple case: Dimension reduction from 2 --> 1\n",
    "\n",
    "To understand the essence of PCA algorithm and dive into mathematics of it, let's consider the following simple case below. The data is two dimensional and each observation is marked with a pink dot. Here the green line is called __the first principal direction__ and the projections of the datapoints on this line is given by the dashed lines. Note that, we choose the green line among all other lines passing through the origin so that if we would choose another line variance of the projections on this line would be smaller.\n",
    "\n",
    "\n",
    "<img src=\"pca_2.png\" cap=\"The first principal direction\" title=\"The green line gives the first principal direction in the dataset\" />\n",
    "\n",
    "After we find the first principal direction, we will choose the second principal direction as a direction which is perpendicular to the first and explains most of the remaining variance. Here since there are only two dimensions the other direction is determined immediately after the first direction. After we find principal directions, we will use these directions as 'axis' and the projections of the datapoints as the 'new' components of the dataset.\n",
    "\n",
    "<img src=\"pca_3.png\" cap=\"Transformed dataset\" title=\"After we find principal directions we will express the data in this coordinates\" />\n",
    "\n",
    "([Image source](http://www-bcf.usc.edu/~gareth/ISL/))\n",
    "\n",
    "Now, if we want to reduce the dimension from two to one then we can drop the second principal direction and just work with the projection of data onto the first principal direction. PCA guarantees that this is the best choice in terms of capturing the variance in the dataset. \n",
    "\n",
    "As we can see, this algorithm implicitly assumes that the information(signal) comes from variance of the data and small variance contains a little information hence can be considered as noise. With this motivation, this algorithm iteratively finds the directions that captures the most of the variance and also records how much variance is left after the projections. This allow us to reduce dimension with a control over the loss of information.\n",
    "\n",
    "\n",
    "## Mathematics of PCA:\n",
    "\n",
    "### Maximum Variance Formulation\n",
    "\n",
    "There are two different formulation that give us the algorithm of PCA. One of them is the one that we mentioned above and the other one is to minimum error formulation. We will first look at the mathematics behind the maximum variance formulation.\n",
    "\n",
    "\n",
    "Suppose we are given a dataset with $N$-observations(rows) and $D$-features(columns). We will denote this dataset with $X$ and mathematicall $X$ is a matrix of shape $N \\times D$. In this setting, each observation is represented by a $D$ dimensional vector which we will denote by $x_{i} = (x_{i1}, x_{i2}, \\cdots x_{iD})$. Note that we have $N$ such vectors. \n",
    "\n",
    "\n",
    "$$ X = \n",
    "\\begin{bmatrix}\n",
    "    ----    &  x_{1}^{\\top} &  ----   \\\\\n",
    "    \\vdots    &  \\vdots    &  \\vdots    \\\\\n",
    "    ----    &  x_{i}^{\\top} &  ----      \\\\\n",
    "     \\vdots    &  \\vdots    &  \\vdots     \\\\\n",
    "     ----    &  x_{N}^{\\top} &  ----  \n",
    "\\end{bmatrix}_{N\\times D}\n",
    "$$\n",
    "\n",
    "Before finding a direction that maximizes the variance of the projections, let's first understand how we will find the variance of projections of $x_i$ onto a given direction $v = (v_1, \\cdots, v_{D})$. Recall that mathematically a direction is represented by a vector of unit lenght. So we assume that $\\lVert v \\rVert = 1$. \n",
    "\n",
    "Again if we recall the scalar projection of a vector $\\vec{a}$ onto a unit vector $\\vec{b}$ is given by the dot product. More explicitly: $ \\text{proj}_{b}a = \\dfrac{a.b}{\\lVert b \\rVert}$\n",
    "\n",
    "<img src=\"projection.png\" cap=\"Transformed dataset\" title=\"After we find principal directions we will express the data in this coordinates\" />\n",
    "\n",
    "([Image sourse](https://mathinsight.org/dot_product))\n",
    "\n",
    "If we look at the projections of each row-vectors $x_i$ onto a given vector $v$, we will get $N$-numbers each given by the scalar projection formula. \n",
    "\n",
    "\n",
    "$$ \\begin{align}\n",
    "p_i &= v^{\\top} \\cdot x_{i} &  &\\text{(projection of each row onto the vector)}\\\\\n",
    "\\overline{p} &= \\frac{1}{N} \\sum\\limits_{i=1}^{N} p_{i}\\\\\n",
    "             &= \\frac{1}{N} \\sum\\limits_{i=1}^{N} v^{\\top} \\cdot x_{i} & &\\text{(the mean of the projections)}\\\\\n",
    "             &= v^{\\top}\\cdot\\frac{1}{N} \\sum\\limits_{i=1}^{N} x_{i}               &     &\\text{(recall that $ \\vec{a}\\cdot\\vec{b}+\\vec{a}\\cdot\\vec{c} = \\vec{a}\\cdot(\\vec{b}+\\vec{c}))$}\n",
    "\\end{align}\n",
    "$$\n",
    "\n",
    "\n",
    "Note that in the last equation we get the following vector $\\frac{1}{N} \\sum\\limits_{i=1}^{N} x_{i}$ . This is summation over each row vector in $X$ and then dividing the corresponding vector by the number of rows. In other words, this is a vector consists of the means of the columns of $X$. We will denote this vector as $\\overline{x}$. Then:\n",
    "\n",
    "$$\n",
    "\\overline{p} = v^{\\top} \\cdot \\overline{x}\n",
    "$$\n",
    "\n",
    "So the average of the projections of the rows $x_i$ onto an arbitrary vector $v$ is given by the dot product of this vector with the mean vector of $X$. Note that for the variance we need to subtract each projection from this and then sum their squares over all of the rows of $X$. Let's write this mathematically:\n",
    "\n",
    "$$\n",
    "\\begin{align}\n",
    "\\sigma^{2} &= \\frac{1}{N}\\sum\\limits_{i=1}^{N}  \\left( \\overline{p} - p_{i}\\right)^{2} \\\\\n",
    "       &= \\frac{1}{N}\\sum\\limits_{i=1}^{N} \\left( v^{\\top}\\cdot \\overline{x} - v^{\\top}\\cdot x_{i}\\right)^{2}\\\\\n",
    "       &= \\frac{1}{N}\\sum\\limits_{i=1}^{N} \\left( v^{\\top}\\cdot\\left( \\overline{x} -  x_{i} \\right) \\right)^{2}\n",
    "\\end{align}\n",
    "$$\n",
    "\n",
    "Let's focus on the last equation again. Note that the dot product of two vectors is a number and it's square is good old second power in real numbers. However, we can write this as:\n",
    "\n",
    "$$\n",
    "\\begin{align}\n",
    "\\left(a^{\\top}\\cdot b\\right)^{2} &= \\left(a^{\\top}\\cdot b\\right)\\left(a^{\\top}\\cdot b\\right) \\\\\n",
    "                                 &= \\left(a^{\\top}\\cdot b\\right)\\left(b^{\\top} \\cdot a \\right) && \\text{with the trick $a^{\\top}\\cdot b = b^{\\top} \\cdot a$} \\\\\n",
    "                                 &= a^{\\top} \\cdot \\left( b\\cdot b^{\\top} \\right) \\cdot a \\\\\n",
    "              \\end{align}\n",
    "$$\n",
    "\n",
    "Note that the last equation is a little bit trickier. We used the fact that for vector the dot product and the matrix products are the same and the matrix product is associative (A.(B.C) = (A.B).C) ie. the order of multiplication doesn't matter. Note that this is not the case for the dot product. \n",
    "\n",
    "Therefore and finally we get a nice expression for the variance of projections:\n",
    "\n",
    "$$\n",
    "\\begin{align}\n",
    "\\sigma^{2}&= \\frac{1}{N} \\sum\\limits_{i=1}^{N} \\left( v^{\\top}\\cdot\\left( \\overline{x} -  x_{i} \\right) \\right)^{2}\\\\\n",
    "          &= \\frac{1}{N}\\sum\\limits_{i=1}^{N} v^{\\top} \\left( \\overline{x} -  x_{i} \\right)\\left( \\overline{x} -  x_{i} \\right)^{\\top} v\n",
    "\\end{align}\n",
    "$$\n",
    "\n",
    "Now one question is begging for an answer: Why should we do all this abracadabra. The answer is the following. In the last equation, the middle term would give us a familiar matrix: $ \\frac{1}{N}\\left( \\overline{x} -  x_{i} \\right)\\left( \\overline{x} -  x_{i} \\right)^{\\top} = \\Sigma$ where $\\Sigma $ denotes the covariance matrix of $X$. After this long journey, let's summarize what we get: for a given data matrix $X$ and a unit vector $v$ the variance of the projection of $X$ onto $v$ is given by:\n",
    "\n",
    "$$\n",
    "\\sigma_{v}^{2} = v^{\\top} \\Sigma v\n",
    "$$\n",
    "\n",
    "where $\\Sigma = \\frac{1}{N}\\left( \\overline{x} -  x_{i} \\right)\\left( \\overline{x} -  x_{i} \\right)^{\\top} $ the covarince matrix of the data matrix $X$.\n",
    "\n",
    "[More on Covariance Matrix](https://datascienceplus.com/understanding-the-covariance-matrix/)\n",
    "\n",
    "\n",
    "### Solving maximization problem\n",
    "\n",
    "Note that the formula above depends on the vector $v$. Our goal in PCA is to find the unit vector $u$ so that $\\sigma_{u}^{2}$ is maximum compared to all $D$-dimensional unit vectors . In more technical terms, we would like to find the maximum of a function (let's call it $f(v) = \\sigma_{v}^{2}$) with the constraint $\\lVert v \\rVert =1$. Since this is a maximization problem with a constraint we should use the Lagrange multiplier method <sup id=\"Lagrange_multiplier_1\">[1](#f1)</sup><sup id=\"Lagrange_multiplier_2\">[2](#f2)</sup><sup id=\"Lagrange_multiplier_3\">[3](#f3)</sup>.  According to this method, the maxima of the function $f(v) = \\sigma_{v}^{2} = v^{\\top} \\Sigma v$ with constraint $\\lVert v \\rVert^{2} =1$ will be a critical point of the function $\\mathcal{L}(v, \\lambda) = f(v) - \\lambda(\\lVert v \\rVert^{2}-1)$. Then we have to find the gradient $\\nabla\\mathcal{L} = (\\frac{\\partial\\mathcal{L}}{\\partial v}, \\frac{\\partial\\mathcal{L}}{\\partial \\lambda})$. The partial derivative $\\frac{\\partial\\mathcal{L}}{\\partial \\lambda}$ simply gives us the constraint condition. So only interesting part comes from $\\frac{\\partial\\mathcal{L}}{\\partial v}$. In our case we have the following:\n",
    "\n",
    "$$\n",
    "\\begin{align}\n",
    "\\frac{\\partial\\mathcal{L}}{\\partial v} = 0 &\\iff& 2\\Sigma v - 2\\lambda v = 0 &&\\text{(A short-hand notation for the partial derivatives)}\\\\\n",
    "& \\iff & \\Sigma v = \\lambda v &&\\text{(Note that this means v is an eigenvector of $\\Sigma$)}\n",
    "\\end{align}\n",
    "$$\n",
    "\n",
    "So note that any eigen-vector of $\\Sigma$ is an candidate for the maxima of $\\sigma^{2}$. Recall that for any such vector $u$ with the corresponding eigen-value $\\lambda_{u}$ the value of $\\sigma_{u}^{2} $ is:\n",
    "\n",
    "$$\n",
    "\\begin{align}\n",
    "\\sigma_{u}^{2} &= u^{\\top} \\Sigma u \\\\\n",
    "               &= \\lambda_{u} \\lVert u \\rVert^{2}\\\\\n",
    "               & = \\lambda_{u}\n",
    "\\end{align}\n",
    "$$\n",
    "Therefore maximum of $\\sigma^{2}$ is achived at the eigenvectors with highest eigenvalue.\n",
    "\n",
    "\n",
    "### Conclusion\n",
    "\n",
    "Notice that above computation showed that the first principal direction is an eigenvector of length 1 and whose eigenvector is the highest among other eigenvectors. \n",
    "\n",
    " <b id=\"f1\"></b> [Lagrange multiplier method - Khan Academy](https://www.khanacademy.org/math/multivariable-calculus/applications-of-multivariable-derivatives/constrained-optimization/a/interpretation-of-lagrange-multipliers). [↩](#Lagrange_multiplier_1)\n",
    " \n",
    "  <b id=\"f2\"></b> [Lagrange multiplier method - Wikipedia](https://en.wikipedia.org/wiki/Lagrange_multiplier). [↩](#Lagrange_multiplier_2)\n",
    "  \n",
    "   <b id=\"f2\"></b> [Lagrange multiplier method - A detailed blogpost](https://danstronger.wordpress.com/2015/08/08/lagrange-multipliers/). [↩](#Lagrange_multiplier_3)\n",
    "  "
   ]
  },
  {
   "cell_type": "markdown",
   "metadata": {},
   "source": [
    " Bla bla <sup id=\"a1\">[1](#f1)</sup>\n",
    " \n",
    " \n",
    " <b id=\"f1\">1</b> Footnote content here. [↩](#a1)"
   ]
  },
  {
   "cell_type": "code",
   "execution_count": 11,
   "metadata": {},
   "outputs": [
    {
     "data": {
      "image/png": "[encoded data removed]",
      "text/plain": [
       "<Figure size 432x288 with 1 Axes>"
      ]
     },
     "metadata": {
      "needs_background": "light"
     },
     "output_type": "display_data"
    },
    {
     "data": {
      "application/vnd.jupyter.widget-view+json": {
       "model_id": "b88934b2e7af40e78c5101fb33e4ad03",
       "version_major": 2,
       "version_minor": 0
      },
      "text/plain": [
       "ToggleButton(value=False, description='Show code')"
      ]
     },
     "metadata": {},
     "output_type": "display_data"
    }
   ],
   "source": [
    "\n",
    "hitters = pd.read_csv('data/hitters/Hitters.csv')\n",
    "df = hitters.loc[:, ['AtBat', 'Hits', 'HmRun', 'Runs', 'RBI']]\n",
    "df.dropna(inplace= True)\n",
    "plt.scatter(df.AtBat, df.HmRun)\n",
    "plt.xlabel('AtBat')\n",
    "plt.ylabel('HmRun')\n",
    "lr = LinearRegression()\n",
    "lr.fit(df.AtBat.values.reshape(-1,1), df.HmRun)\n",
    "y_predict = lr.predict(df.AtBat.values.reshape(-1,1))\n",
    "plt.plot(df.AtBat, y_predict, c = 'g', linewidth = 4.5)\n",
    "plt.show()\n",
    "display(button)"
   ]
  },
  {
   "cell_type": "markdown",
   "metadata": {},
   "source": []
  },
  {
   "cell_type": "code",
   "execution_count": 5,
   "metadata": {},
   "outputs": [
    {
     "data": {
      "image/png": "[encoded data removed]",
      "text/plain": [
       "<Figure size 432x288 with 1 Axes>"
      ]
     },
     "metadata": {
      "needs_background": "light"
     },
     "output_type": "display_data"
    },
    {
     "data": {
      "text/plain": [
       "[(1, 1.0), (1, 2.5), (1, 4.0), (1, 5.5), (1, 7.0), (1, 8.5), (1, 10.0)]"
      ]
     },
     "metadata": {},
     "output_type": "display_data"
    }
   ],
   "source": [
    "y = np.linspace(1,10,7)\n",
    "x = [1]*7\n",
    "plt.scatter(x, y)\n",
    "plt.show()\n",
    "display(list(zip(x,y)))"
   ]
  },
  {
   "cell_type": "markdown",
   "metadata": {},
   "source": [
    "Notice that in the above plot we have 7 points with the coordinates given above. As the points don't vary in x-axis, from machine learning perspective we could drop the x-axis and we wouldn't lose any information.  "
   ]
  },
  {
   "cell_type": "markdown",
   "metadata": {},
   "source": [
    "\n",
    "### Notation\n",
    "\n",
    "\n",
    "\n",
    "Also in the discussions above we will adopt the following notation. \n",
    "\n",
    "\n",
    "\n",
    "- A vector in $\\mathbb{R}^{n}$ is written as $\\vec{u} = (u_1, \\cdots, u_{n})$. So when we think a vector as a matrix, we represent them as column vectors:\n",
    "\n",
    "$$ \\vec{u} = \\begin{bmatrix}\n",
    "    u_1 \\\\\n",
    "    u_2 \\\\\n",
    "    \\vdots\\\\\n",
    "    u_n\n",
    "\\end{bmatrix}_{ n\\times1}$$\n",
    "\n",
    "with this notation the transpose of a vector is a $1\\times n$ matrix:\n",
    "\n",
    "$$\n",
    "\\vec{u}^{T} = \\begin{bmatrix}\n",
    "    u_1 & u_2 & \\cdots & u_n\n",
    "\\end{bmatrix}_{ 1\\times n}\n",
    "$$\n",
    "\n",
    "- For the dot-product we can use any of the following notations:\n",
    "\n",
    " - If we think of vectors abstractly: $u \\cdot v = v \\cdot u = u_1 v_1 + \\cdots + u_n v_u$\n",
    " \n",
    " - If we consider vectors as $n\\times 1$ matrices: \n",
    " \n",
    " $$\n",
    " \\vec{u}^{T}\\cdot \\vec{v} = \\begin{bmatrix}\n",
    "    u_1 & u_2 & \\cdots & u_n\n",
    "\\end{bmatrix}\\begin{bmatrix}\n",
    "    v_1 \\\\\n",
    "    v_2 \\\\\n",
    "    \\vdots\\\\\n",
    "    v_n\n",
    "\\end{bmatrix} = \\vec{v}^{T}\\cdot \\vec{u} =  \\begin{bmatrix}\n",
    "    v_1 & v_2 & \\cdots & v_n\n",
    "\\end{bmatrix}\\begin{bmatrix}\n",
    "    u_1 \\\\\n",
    "    u_2 \\\\\n",
    "    \\vdots\\\\\n",
    "    u_n\n",
    "    \\end{bmatrix}\n",
    "     = u_1 v_1 + \\cdots + u_n v_n\n",
    " $$\n",
    "\n",
    "\n",
    "\n",
    "- In this notebook, a dataset will be denoted by $X$. We will consider a dataframe as an $N\\times D$ dimensional matrix. For the baseball_data set this matrix will be of dimension $322 \\times 5$\n",
    "\n",
    "    - A row of $X$ will be denoted by $x_n$. Each such row $x_n$ will be considered as $D$-dimensional vector. In particular, for the baseball_dataset each such row will be a vector in $\\mathbb{R}^{5}$\n",
    "\n",
    " __Notational remark:__ From now on we will drop '$\\rightarrow$' in our vector notation for convenience!\n"
   ]
  },
  {
   "cell_type": "markdown",
   "metadata": {},
   "source": [
    "<a name = 'variance_of_the_data'>\n",
    "    </a>\n",
    "<center>\n",
    "    <h1>\n",
    "        Variance of the data\n",
    "    </h1>\n",
    "</center>\n",
    "\n",
    "\n",
    "PCA will reduce the dimensions iteratively. So first we will find a direction that captures the highest variance. We will call this yet unknown direction as $\\mathbf{u_{1}} = (u_{11}, u_{12}, \\cdots u_{1D})$. Now consider the projection of each columns onto this hypothetical direction $\\mathbf{u_1}$ which can be expressed as $\\mathbf{u_1}^{T}\\cdot \\mathbf{x_n}$. Note that this is a number for each vector $\\mathbf{x_n}$. "
   ]
  },
  {
   "cell_type": "markdown",
   "metadata": {},
   "source": [
    "\n",
    "\n",
    "$$ \\begin{eqnarray}\n",
    "\\mbox{proj_mean} = \\overline{p} &=& \\frac{1}{N}\\sum\\limits_{n=1}^{N} u_{1}^{T} \\cdot x_n \\\\\n",
    "      &=& u_{1}^{T} \\cdot \\frac{1}{N}\\sum\\limits_{n=1}^{N} x_n \\\\\n",
    "       &=& u_1^{T} \\overline{x}\n",
    "\\end{eqnarray}$$\n",
    "\n",
    "where $\\overline{x}$ a vector of dimension $D$ and denotes the mean of the sample set\n",
    "\n",
    "From the variance formula we got the variance as: \n",
    "\n",
    "$$ x_1 = (x_{11}, x_{12}, x_{13}), \\cdots x_N = (x_{N1}, x_{N2}, x_{N3})$$\n",
    "\n",
    "\n",
    "-- Talk a little bit more about commutativity of proj and mean  - expand $\\overline{x}$\n",
    "\n",
    "$$\\overline{x} = (\\overline{x}, )$$\n",
    "\n",
    "\n",
    "$$ \\begin{eqnarray}\n",
    "\\mbox{proj_variance} &=& \\frac{1}{N}\\sum\\limits_{n=1}^{N}\\big(u_{1}^{T}\\cdot x_n - u_{1}^{T}\\overline{x}\\big)^2 \\nonumber \\\\\n",
    "      &=& \\frac{1}{N}\\sum\\limits_{n=1}^{N}\\big(u_{1}^{T}\\cdot x_n - u_{1}^{T}\\cdot \\overline{x}\\big)^2 \\nonumber \\\\\\label{covariance}\n",
    "      &=& \\frac{1}{N}\\sum\\limits_{n=1}^{N}\\big(u_{1}^{T}\\cdot (x_n - \\overline{x})\\big)^2 \\\\\n",
    "\\end{eqnarray}$$\n",
    "\n",
    "Now let's focus on the equation $\\ref{covariance}$. Inside of the sum we have the square of the dot products of two vectors namely $u_{1}^{T}$ and $x_n - \\overline{x}$. We will use basic vector algebra to express this in terms of the covariance matrix of $X$.\n",
    "\n",
    "$$ \\begin{eqnarray}\n",
    "\\big( u_{1}^{T} \\cdot (x_n - \\overline{x})\\big)^2 &=& \\big( u_{1}^{T} \\cdot (x_n - \\overline{x})\\big) \\cdot \\big(  u_{1}^{T} \\cdot (x_n - \\overline{x})\\big) \\\\\n",
    "&=& \\big( u_{1}^{T} \\cdot (x_n - \\overline{x})\\big) \\cdot \\big((x_n - \\overline{x})^{T} \\cdot u_{1}\\big)   \\hspace{6em} (\\mbox{note that }(u^{T}\\cdot v)^T = v^{T}\\cdot u) \\\\\n",
    "&=& u_{1}^{T}\\big( (x_n - \\overline{x})(x_{n} - \\overline{x})^{T} \\big)u_1 \\label{dot_product}\n",
    "\\end{eqnarray}$$\n",
    "\n",
    "\n",
    "If we insert the equation $\\ref{dot_product}$ into $\\ref{covariance}$ then we get the following equation:\n",
    "\n",
    "$$ \\begin{eqnarray}\n",
    "\\mbox{proj_variance} &=& \\frac{1}{N}\\sum\\limits_{n=1}^{N}\\big(u_{1}^{T}\\cdot (x_n - \\overline{x})\\big)^2 \\\\ \n",
    "    & = & \\frac{1}{N} \\sum\\limits_{n=1}^{N}  u_{1}^{T}\\big( (x_n - \\overline{x})(x_{n} - \\overline{x})^{T} \\big)u_1  \\\\\n",
    "    & = & u_{1}^{T}  \\bigg( \\frac{1}{N} \\sum\\limits_{n=1}^{N} \\big( (x_n - \\overline{x})(x_{n} - \\overline{x})^{T} \\big) \\bigg) u_1 \\\\\n",
    "    & = & u_{1}^{T} S u_1 \\label{optimization}\n",
    "\\end{eqnarray}$$\n",
    "\n",
    "Let's recall our goal again: We would like to find a direction $u_1$ so that the variance of the projection of the data onto this line would be the maximum. The good news is we already find the variance in terms of $u_1$. The bad news however is this function has no maximum as it is a unbounded function. You can clearly observe this thing from the equation $\\ref{optimization}$. If you keep increasing the length of the vector $u_1$ then this function would get bigger and bigger values and in the limit we get $\\infty$. \n",
    "\n",
    "The problem and solution lie in the following observation: note that we are just interested in the direction of $u_1$. As the vectors $u_1$ and $Cu_1$ would give the same direction, we would like to consider only unit lenght vectors. This means we update our goal as: find a direction vector $u_1$ so that the variance of the projection is maximized and $u_1^{T}u_{1} = 1$.\n",
    "\n",
    "\n",
    "<a name=\"Lagrange_multiplier_method\">\n",
    "</a>\n",
    "\n",
    "<center> <h1>A brief discussion of the Lagrange Multiplier Method</h1> </center>\n",
    "\n",
    "Recall that one of the main goal of the analysis - calculus is to understand the problem of finding maximum and minimum of a given function. For example the function $f(x) = x^2$ attains its minimum at $x=0$ and has no absolute maximum as this function is unbounded. Similarly, if we consider the function $z = f(x,y) = x^2 + y^2$ then this function would attain it minimum at $(0,0)$ but has no maximum. This problem (at least partially) solved by first and second (partial) derivatives of the function. \n",
    "\n",
    "If we slightly change our problem and instead of trying to find maximum or/and minimum on the whole domain, restrict ourselves to a (lower dimensional) subset of the domain then one of the effective methods of solving this problem is Lagrange multiplier method. Here is the setting of the problem if we would like to find the maximum or minimum of a function $f(x,y)$ with a constraint(restriction) $g(x,y) = c$. Lagrange multiplier method tells us that if $f(x,y)$ has a max or min (and with some extra smoothness conditions) then at this point $\\mathcal{L(x,y)} = f(x,y) - \\lambda (g(x,y) -c)$ should have zero partial derivatives. Note that the latter problem is rather straight forward and easier than the former one. (f and g are given in the problem. So we have them explicitly.) This method (method of Lagrange multiplier) reduces to the problem to calculate partial derivatives and solving a system of equations for $x,y,\\lambda$. For deeper discussion on Lagrange multiplier method and more intution why this method works please check the following links. \n",
    "\n",
    "[Detailed but probably overwhelming intro](https://en.wikipedia.org/wiki/Lagrange_multiplier)\n",
    "\n",
    "[Relatively easier - textbook style intro - includes visuals](http://tutorial.math.lamar.edu/Classes/CalcIII/LagrangeMultipliers.aspx)\n",
    "\n",
    "[Khan Academy](https://www.khanacademy.org/math/multivariable-calculus/applications-of-multivariable-derivatives/constrained-optimization/a/lagrange-multipliers-single-constraint)\n",
    "\n",
    "<a name=\"optimization\">\n",
    "</a>\n",
    "\n",
    "<center> <h1>Optimization problem for maximum variance interpretation</h1> </center>\n",
    "\n",
    "As we already find out that finding a direction so that the variance of the projected data is maximum is equivalent to the following constraint problem:\n",
    "\n",
    " -- maximize f(u) = $u_{1}^{T}Su_{1}$\n",
    " \n",
    " -- Subject to the constraint $g(u)= u_{1}^{T}u_{1} =1$\n",
    " \n",
    "#### Lagrangian\n",
    "\n",
    "As we briefly discussed this problem can be approached by Lagrange multiplier method. We will write the Lagrangian as $\\mathcal{L(u_1)} = u_1^{T}Su_{1} - \\lambda (u_1^{T}u_1 -1)$. We know that the maximum of the problem $u_{1}^{T}Su_{1}$ make the partial derivatives of $\\mathcal{L}(u_{11}, \\cdots, u_{1D}) $ equal to zero. When we write this equations then we get $$ S u_{1} = \\lambda_1 u_1$$\n",
    "\n",
    "\n",
    "$$ \\begin{eqnarray} x^{T}A \\cdot x &=&\\begin{bmatrix}\n",
    "    x_1,x_2,x_3 \n",
    "    \\end{bmatrix} \\begin{bmatrix}\n",
    "    A_{11}x_1 + A_{12}x_2 + A_{13}x_3 \\\\\n",
    "    A_{21}x_1 + A_{22}x_2 + A_{23}x_3 \\\\\n",
    "    A_{31}x_1 + A_{32}x_2 + A_{33}x_3 \\\\\n",
    "\\end{bmatrix}\\\\ \n",
    "  &=& x_1( A_{11}x_1 + A_{12}x_2 + A_{13}x_3)+x_2( A_{21}x_1 + A_{22}x_2 + A_{23}x_3) +x_3(A_{31}x_1 + A_{32}x_2 + A_{33}x_3) \\\\\n",
    "  &-->& ( A_{11}x_1 + A_{12}x_2 + A_{13}x_3) + x_1 A_{11} + x_2 A_{21} + x_3 A_{31} \\\\ \n",
    "  &-->& 2 x_1 A_{11} +2x_2 A_{12} + 2x_3 A_{13} = 2\\lambda x_1 \\\\\n",
    "  &-->& u^{T}u_1 = (x_1)^2 +(x_2)^{2} +(x_{3})^2\n",
    "  \\end{eqnarray}\n",
    "  $$"
   ]
  },
  {
   "cell_type": "markdown",
   "metadata": {},
   "source": [
    "<a name=\"minimum_error\">\n",
    "</a>\n",
    "\n",
    "\n",
    "<center> <h1>Minimum Error Formulation</h1> </center>"
   ]
  },
  {
   "cell_type": "code",
   "execution_count": 79,
   "metadata": {
    "scrolled": true
   },
   "outputs": [
    {
     "name": "stderr",
     "output_type": "stream",
     "text": [
      "/home/mrtgnr/anaconda3/lib/python3.7/site-packages/scipy/stats/stats.py:1713: FutureWarning: Using a non-tuple sequence for multidimensional indexing is deprecated; use `arr[tuple(seq)]` instead of `arr[seq]`. In the future this will be interpreted as an array index, `arr[np.array(seq)]`, which will result either in an error or a different result.\n",
      "  return np.add.reduce(sorted[indexer] * weights, axis=axis) / sumval\n"
     ]
    },
    {
     "data": {
      "text/plain": [
       "<matplotlib.axes._subplots.AxesSubplot at 0x7fa01b541dd8>"
      ]
     },
     "execution_count": 79,
     "metadata": {},
     "output_type": "execute_result"
    },
    {
     "data": {
      "image/png": "[encoded data removed]",
      "text/plain": [
       "<Figure size 432x288 with 1 Axes>"
      ]
     },
     "metadata": {},
     "output_type": "display_data"
    }
   ],
   "source": [
    "from sklearn.linear_model import LinearRegression\n",
    "\n",
    "sns.regplot(x= df.AtBat, y= df.Hits, color= 'red')\n"
   ]
  },
  {
   "cell_type": "code",
   "execution_count": 88,
   "metadata": {},
   "outputs": [],
   "source": [
    "v = np.array([100,50])/ np.sqrt(100**2 + 50**2)\n",
    "df_vis = df[['AtBat','Hits']]"
   ]
  },
  {
   "cell_type": "code",
   "execution_count": 91,
   "metadata": {},
   "outputs": [],
   "source": [
    "x_proj = []"
   ]
  },
  {
   "cell_type": "code",
   "execution_count": 92,
   "metadata": {},
   "outputs": [],
   "source": [
    "for i in range(len(df)):\n",
    "    x_proj.append( np.dot(v,df_vis.loc[i].values)*v)\n",
    "    "
   ]
  },
  {
   "cell_type": "code",
   "execution_count": null,
   "metadata": {},
   "outputs": [],
   "source": []
  }
 ],
 "metadata": {
  "kernelspec": {
   "display_name": "Python 3",
   "language": "python",
   "name": "python3"
  },
  "language_info": {
   "codemirror_mode": {
    "name": "ipython",
    "version": 3
   },
   "file_extension": ".py",
   "mimetype": "text/x-python",
   "name": "python",
   "nbconvert_exporter": "python",
   "pygments_lexer": "ipython3",
   "version": "3.7.1"
  }
 },
 "nbformat": 4,
 "nbformat_minor": 2
}
